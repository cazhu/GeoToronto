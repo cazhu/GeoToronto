{
 "cells": [
  {
   "cell_type": "code",
   "execution_count": 1,
<<<<<<< HEAD:GeoToronto.ipynb
   "metadata": {},
=======
   "metadata": {
    "scrolled": true
   },
>>>>>>> 83d5108e5342395b0c0c7cb300d65fa1949d1b0a:archive/GeoToronto.ipynb
   "outputs": [
    {
     "name": "stderr",
     "output_type": "stream",
     "text": [
<<<<<<< HEAD:GeoToronto.ipynb
      "/Users/cyzhu/anaconda3/envs/default/lib/python3.7/site-packages/ipykernel_launcher.py:11: MatplotlibDeprecationWarning: \n",
=======
      "C:\\Users\\328676507\\AppData\\Local\\conda\\conda\\envs\\self\\lib\\site-packages\\ipykernel_launcher.py:11: MatplotlibDeprecationWarning: \n",
>>>>>>> 83d5108e5342395b0c0c7cb300d65fa1949d1b0a:archive/GeoToronto.ipynb
      "The mpl_toolkits.axes_grid module was deprecated in Matplotlib 2.1 and will be removed two minor releases later. Use mpl_toolkits.axes_grid1 and mpl_toolkits.axisartist, which provide the same functionality instead.\n",
      "  # This is added back by InteractiveShellApp.init_path()\n"
     ]
    }
   ],
   "source": [
    "import sys\n",
    "import matplotlib\n",
    "import math\n",
    "import pyproj\n",
    "from descartes import PolygonPatch\n",
    "import matplotlib.pyplot as plt\n",
    "import seaborn as sns\n",
    "import numpy as np\n",
    "from matplotlib.colors import ListedColormap, Normalize\n",
    "from matplotlib.colorbar import ColorbarBase\n",
    "from mpl_toolkits.axes_grid.inset_locator import inset_axes\n",
    "import sys\n",
    "import os\n",
    "import zipfile\n",
    "import subprocess\n",
    "import json\n",
    "import shelve\n",
    "import fiona\n",
    "import urllib.request\n",
    "import shutil"
   ]
  },
  {
   "cell_type": "code",
<<<<<<< HEAD:GeoToronto.ipynb
   "execution_count": 2,
=======
   "execution_count": 7,
>>>>>>> 83d5108e5342395b0c0c7cb300d65fa1949d1b0a:archive/GeoToronto.ipynb
   "metadata": {},
   "outputs": [
    {
     "data": {
      "text/plain": [
       "True"
      ]
     },
     "execution_count": 7,
     "metadata": {},
     "output_type": "execute_result"
    }
   ],
   "source": [
    "zip_file = 'zoning_wgs84.zip'\n",
    "os.path.exists(zip_file)"
   ]
  },
  {
   "cell_type": "code",
<<<<<<< HEAD:GeoToronto.ipynb
   "execution_count": 3,
   "metadata": {},
   "outputs": [],
   "source": [
    "\n",
    "cache = False\n",
    "if not cache:\n",
    "    try:\n",
    "        shutil.rmtree('./data/') \n",
    "        \n",
    "    except FileNotFoundError:\n",
    "        print('No such file or directory.')"
=======
   "execution_count": 11,
   "metadata": {},
   "outputs": [
    {
     "ename": "SystemExit",
     "evalue": "Data source not found. Please download the .shp file http://opendata.toronto.ca/gcc/zoning_wgs84.zip and save in project folder.",
     "output_type": "error",
     "traceback": [
      "An exception has occurred, use %tb to see the full traceback.\n",
      "\u001b[1;31mSystemExit\u001b[0m\u001b[1;31m:\u001b[0m Data source not found. Please download the .shp file http://opendata.toronto.ca/gcc/zoning_wgs84.zip and save in project folder.\n"
     ]
    }
   ],
   "source": [
    "sys.exit(\"Data source not found. Please download the .shp file http://opendata.toronto.ca/gcc/zoning_wgs84.zip and save in project folder.\")"
>>>>>>> 83d5108e5342395b0c0c7cb300d65fa1949d1b0a:archive/GeoToronto.ipynb
   ]
  },
  {
   "cell_type": "code",
<<<<<<< HEAD:GeoToronto.ipynb
   "execution_count": 4,
   "metadata": {},
   "outputs": [
    {
     "name": "stdout",
     "output_type": "stream",
     "text": [
      "Creating data folder\n",
      "Downloading compressed shp file from data soure: \n",
      " http://opendata.toronto.ca/gcc/zoning_wgs84.zip\n",
      "Extracting shp file\n"
     ]
    }
   ],
   "source": [
    "try:\n",
    "    print('Creating data folder')\n",
    "    os.makedirs('./data/')\n",
    "except IOError:\n",
    "    print('Folder already exists')\n",
    "    pass\n",
    "\n",
    "zip_file = \"./data/zoning_wgs84.zip\"\n",
    "if not os.path.exists(zip_file):\n",
    "    url = \"http://opendata.toronto.ca/gcc/zoning_wgs84.zip\"\n",
    "    print('Downloading compressed shp file from data soure: \\n', url)\n",
    "    urllib.request.urlretrieve(url, './data/zoning_wgs84.zip')\n",
    "shp_file = \"./data/zoning_wgs84/ZONING_ZONE_CATAGORIES_WGS84.shp\"\n",
    "if not os.path.exists(shp_file):\n",
    "    print('Extracting shp file')\n",
    "    with zipfile.ZipFile(zip_file) as zf:\n",
    "        zf.extractall('./data')"
   ]
  },
  {
   "cell_type": "code",
   "execution_count": 9,
   "metadata": {},
   "outputs": [],
   "source": [
    "matplotlib.use('ps')"
   ]
  },
  {
   "cell_type": "code",
   "execution_count": 5,
   "metadata": {},
   "outputs": [
    {
     "data": {
      "text/plain": [
       "'module://ipykernel.pylab.backend_inline'"
      ]
     },
     "execution_count": 5,
     "metadata": {},
     "output_type": "execute_result"
    }
   ],
   "source": [
    "matplotlib.get_backend()"
   ]
  },
  {
   "cell_type": "code",
   "execution_count": 19,
=======
   "execution_count": 23,
   "metadata": {},
   "outputs": [
    {
     "ename": "FileNotFoundError",
     "evalue": "[Errno 2] No such file or directory: './data/zoning_wgs84.zip'",
     "output_type": "error",
     "traceback": [
      "\u001b[1;31m---------------------------------------------------------------------------\u001b[0m",
      "\u001b[1;31mFileNotFoundError\u001b[0m                         Traceback (most recent call last)",
      "\u001b[1;32m<ipython-input-23-d1d35ac5118f>\u001b[0m in \u001b[0;36m<module>\u001b[1;34m\u001b[0m\n\u001b[1;32m----> 1\u001b[1;33m \u001b[1;32mwith\u001b[0m \u001b[0mzipfile\u001b[0m\u001b[1;33m.\u001b[0m\u001b[0mZipFile\u001b[0m\u001b[1;33m(\u001b[0m\u001b[1;34m'./data/zoning_wgs84.zip'\u001b[0m\u001b[1;33m)\u001b[0m \u001b[1;32mas\u001b[0m \u001b[0mmyzip\u001b[0m\u001b[1;33m:\u001b[0m\u001b[1;33m\u001b[0m\u001b[1;33m\u001b[0m\u001b[0m\n\u001b[0m\u001b[0;32m      2\u001b[0m     \u001b[0mmyzip\u001b[0m\u001b[1;33m.\u001b[0m\u001b[0mextractall\u001b[0m\u001b[1;33m(\u001b[0m\u001b[1;34m'./data'\u001b[0m\u001b[1;33m)\u001b[0m\u001b[1;33m\u001b[0m\u001b[1;33m\u001b[0m\u001b[0m\n",
      "\u001b[1;32m~\\AppData\\Local\\conda\\conda\\envs\\self\\lib\\zipfile.py\u001b[0m in \u001b[0;36m__init__\u001b[1;34m(self, file, mode, compression, allowZip64)\u001b[0m\n\u001b[0;32m   1111\u001b[0m             \u001b[1;32mwhile\u001b[0m \u001b[1;32mTrue\u001b[0m\u001b[1;33m:\u001b[0m\u001b[1;33m\u001b[0m\u001b[1;33m\u001b[0m\u001b[0m\n\u001b[0;32m   1112\u001b[0m                 \u001b[1;32mtry\u001b[0m\u001b[1;33m:\u001b[0m\u001b[1;33m\u001b[0m\u001b[1;33m\u001b[0m\u001b[0m\n\u001b[1;32m-> 1113\u001b[1;33m                     \u001b[0mself\u001b[0m\u001b[1;33m.\u001b[0m\u001b[0mfp\u001b[0m \u001b[1;33m=\u001b[0m \u001b[0mio\u001b[0m\u001b[1;33m.\u001b[0m\u001b[0mopen\u001b[0m\u001b[1;33m(\u001b[0m\u001b[0mfile\u001b[0m\u001b[1;33m,\u001b[0m \u001b[0mfilemode\u001b[0m\u001b[1;33m)\u001b[0m\u001b[1;33m\u001b[0m\u001b[1;33m\u001b[0m\u001b[0m\n\u001b[0m\u001b[0;32m   1114\u001b[0m                 \u001b[1;32mexcept\u001b[0m \u001b[0mOSError\u001b[0m\u001b[1;33m:\u001b[0m\u001b[1;33m\u001b[0m\u001b[1;33m\u001b[0m\u001b[0m\n\u001b[0;32m   1115\u001b[0m                     \u001b[1;32mif\u001b[0m \u001b[0mfilemode\u001b[0m \u001b[1;32min\u001b[0m \u001b[0mmodeDict\u001b[0m\u001b[1;33m:\u001b[0m\u001b[1;33m\u001b[0m\u001b[1;33m\u001b[0m\u001b[0m\n",
      "\u001b[1;31mFileNotFoundError\u001b[0m: [Errno 2] No such file or directory: './data/zoning_wgs84.zip'"
     ]
    }
   ],
   "source": []
  },
  {
   "cell_type": "code",
   "execution_count": 25,
   "metadata": {},
   "outputs": [],
   "source": []
  },
  {
   "cell_type": "code",
   "execution_count": null,
   "metadata": {},
   "outputs": [],
   "source": []
  },
  {
   "cell_type": "code",
   "execution_count": 2,
   "metadata": {},
   "outputs": [],
   "source": []
  },
  {
   "cell_type": "code",
   "execution_count": 4,
>>>>>>> 83d5108e5342395b0c0c7cb300d65fa1949d1b0a:archive/GeoToronto.ipynb
   "metadata": {},
   "outputs": [
    {
     "name": "stderr",
     "output_type": "stream",
     "text": [
      "C:\\Users\\328676507\\AppData\\Local\\conda\\conda\\envs\\self\\lib\\site-packages\\ipykernel_launcher.py:17: FionaDeprecationWarning: Collection.__next__() is buggy and will be removed in Fiona 2.0. Switch to `next(iter(collection))`.\n"
     ]
    },
    {
     "name": "stdout",
     "output_type": "stream",
     "text": [
      "Finish\n"
     ]
    }
   ],
   "source": [
<<<<<<< HEAD:GeoToronto.ipynb
=======
    "if not os.path.exists('zoning_wgs84.zip'):\n",
    "    sys.exit(\"Data source not found. Please download the .shp file from: http://opendata.toronto.ca/gcc/zoning_wgs84.zip\")\n",
    "else:\n",
    "    with zipfile.ZipFile('./zoning_wgs84.zip') as myzip:\n",
    "        myzip.extractall('./data')\n",
    "\n",
>>>>>>> 83d5108e5342395b0c0c7cb300d65fa1949d1b0a:archive/GeoToronto.ipynb
    "shape = fiona.open(\"./data/ZONING_ZONE_CATAGORIES_WGS84.shp\")\n",
    "fig = plt.figure(figsize=(15,15))\n",
    "x1, y1 = geo_proj.transform([-79.63, 43.58])\n",
    "x2, y2 = geo_proj.transform([-79.11, 43.85])\n",
    "\n",
    "ax = fig.add_subplot(1, 1, 1)\n",
    "ax.set_xlim(x1, x2)\n",
    "ax.set_ylim(y1, y2)\n",
    "\n",
    "\n",
    "fc = \"#ffffff\"\n",
    "ec = \"#ff0000\"\n",
    "z = 100\n",
    "\n",
    "while True:\n",
    "    try:\n",
    "        i = next(shape)\n",
    "        poly = i['geometry']\n",
    "        poly = geo_proj.transform(poly)     \n",
    "        ax.add_patch(PolygonPatch(poly, fc=fc, ec=ec, zorder=z))\n",
    "    except:\n",
    "        print('Finish')\n",
    "        break\n"
   ]
  },
  {
   "cell_type": "code",
   "execution_count": 20,
   "metadata": {},
   "outputs": [],
   "source": [
    "fig.savefig('output.png')"
   ]
  }
 ],
 "metadata": {
  "kernelspec": {
   "display_name": "Python 3",
   "language": "python",
   "name": "python3"
  },
  "language_info": {
   "codemirror_mode": {
    "name": "ipython",
    "version": 3
   },
   "file_extension": ".py",
   "mimetype": "text/x-python",
   "name": "python",
   "nbconvert_exporter": "python",
   "pygments_lexer": "ipython3",
   "version": "3.6.8"
  }
 },
 "nbformat": 4,
 "nbformat_minor": 4
}
