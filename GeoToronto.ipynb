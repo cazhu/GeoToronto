{
 "cells": [
  {
   "cell_type": "code",
   "execution_count": 1,
   "metadata": {},
   "outputs": [
    {
     "name": "stderr",
     "output_type": "stream",
     "text": [
      "/Users/cyzhu/anaconda3/envs/default/lib/python3.7/site-packages/ipykernel_launcher.py:11: MatplotlibDeprecationWarning: \n",
      "The mpl_toolkits.axes_grid module was deprecated in Matplotlib 2.1 and will be removed two minor releases later. Use mpl_toolkits.axes_grid1 and mpl_toolkits.axisartist, which provide the same functionality instead.\n",
      "  # This is added back by InteractiveShellApp.init_path()\n"
     ]
    }
   ],
   "source": [
    "import sys\n",
    "import matplotlib\n",
    "import math\n",
    "import pyproj\n",
    "from descartes import PolygonPatch\n",
    "import matplotlib.pyplot as plt\n",
    "import seaborn as sns\n",
    "import numpy as np\n",
    "from matplotlib.colors import ListedColormap, Normalize\n",
    "from matplotlib.colorbar import ColorbarBase\n",
    "from mpl_toolkits.axes_grid.inset_locator import inset_axes\n",
    "import sys\n",
    "import os\n",
    "import zipfile\n",
    "import subprocess\n",
    "import json\n",
    "import shelve\n",
    "import fiona\n",
    "import urllib.request\n",
    "import shutil"
   ]
  },
  {
   "cell_type": "code",
   "execution_count": 2,
   "metadata": {},
   "outputs": [],
   "source": [
    "class GeoProj(object):\n",
    "    def __init__(self, input=\"epsg:4326\", output=\"epsg:3857\"):\n",
    "        self._outProj = pyproj.Proj(init=output)\n",
    "        self._inProj = pyproj.Proj(init=input)\n",
    "\n",
    "    def transform(self, source):\n",
    "        if isinstance(source, dict):\n",
    "            return {'type': source['type'],\n",
    "                    'coordinates': self.transform(source['coordinates'])}\n",
    "        ans = []\n",
    "        if any(isinstance(el, list) for el in source) or any(isinstance(el, tuple) for el in source):\n",
    "            for el in source:\n",
    "                ans.append(self.transform(el))\n",
    "        else:\n",
    "            ans = pyproj.transform(self._inProj, self._outProj, source[0], source[1])\n",
    "        return ans\n",
    "geo_proj = GeoProj()"
   ]
  },
  {
   "cell_type": "code",
   "execution_count": 3,
   "metadata": {},
   "outputs": [],
   "source": [
    "\n",
    "cache = False\n",
    "if not cache:\n",
    "    try:\n",
    "        shutil.rmtree('./data/') \n",
    "        \n",
    "    except FileNotFoundError:\n",
    "        print('No such file or directory.')"
   ]
  },
  {
   "cell_type": "code",
   "execution_count": 4,
   "metadata": {},
   "outputs": [
    {
     "name": "stdout",
     "output_type": "stream",
     "text": [
      "Creating data folder\n",
      "Downloading compressed shp file from data soure: \n",
      " http://opendata.toronto.ca/gcc/zoning_wgs84.zip\n",
      "Extracting shp file\n"
     ]
    }
   ],
   "source": [
    "try:\n",
    "    print('Creating data folder')\n",
    "    os.makedirs('./data/')\n",
    "except IOError:\n",
    "    print('Folder already exists')\n",
    "    pass\n",
    "\n",
    "zip_file = \"./data/zoning_wgs84.zip\"\n",
    "if not os.path.exists(zip_file):\n",
    "    url = \"http://opendata.toronto.ca/gcc/zoning_wgs84.zip\"\n",
    "    print('Downloading compressed shp file from data soure: \\n', url)\n",
    "    urllib.request.urlretrieve(url, './data/zoning_wgs84.zip')\n",
    "shp_file = \"./data/zoning_wgs84/ZONING_ZONE_CATAGORIES_WGS84.shp\"\n",
    "if not os.path.exists(shp_file):\n",
    "    print('Extracting shp file')\n",
    "    with zipfile.ZipFile(zip_file) as zf:\n",
    "        zf.extractall('./data')"
   ]
  },
  {
   "cell_type": "code",
   "execution_count": 9,
   "metadata": {},
   "outputs": [],
   "source": [
    "matplotlib.use('ps')"
   ]
  },
  {
   "cell_type": "code",
   "execution_count": 5,
   "metadata": {},
   "outputs": [
    {
     "data": {
      "text/plain": [
       "'module://ipykernel.pylab.backend_inline'"
      ]
     },
     "execution_count": 5,
     "metadata": {},
     "output_type": "execute_result"
    }
   ],
   "source": [
    "matplotlib.get_backend()"
   ]
  },
  {
   "cell_type": "code",
   "execution_count": 19,
   "metadata": {},
   "outputs": [
    {
     "name": "stderr",
     "output_type": "stream",
     "text": [
      "/Users/cyzhu/anaconda3/envs/default/lib/python3.7/site-packages/ipykernel_launcher.py:17: FionaDeprecationWarning: Collection.__next__() is buggy and will be removed in Fiona 2.0. Switch to `next(iter(collection))`.\n"
     ]
    },
    {
     "name": "stdout",
     "output_type": "stream",
     "text": [
      "Finish\n"
     ]
    }
   ],
   "source": [
    "shape = fiona.open(\"./data/ZONING_ZONE_CATAGORIES_WGS84.shp\")\n",
    "fig = plt.figure(figsize=(15,15))\n",
    "x1, y1 = geo_proj.transform([-79.63, 43.58])\n",
    "x2, y2 = geo_proj.transform([-79.11, 43.85])\n",
    "\n",
    "ax = fig.add_subplot(1, 1, 1)\n",
    "ax.set_xlim(x1, x2)\n",
    "ax.set_ylim(y1, y2)\n",
    "\n",
    "\n",
    "fc = \"#ffffff\"\n",
    "ec = \"#ff0000\"\n",
    "z = 100\n",
    "\n",
    "while True:\n",
    "    try:\n",
    "        i = next(shape)\n",
    "        poly = i['geometry']\n",
    "        poly = geo_proj.transform(poly)     \n",
    "        ax.add_patch(PolygonPatch(poly, fc=fc, ec=ec, zorder=z))\n",
    "    except:\n",
    "        print('Finish')\n",
    "        break\n"
   ]
  },
  {
   "cell_type": "code",
   "execution_count": 20,
   "metadata": {},
   "outputs": [],
   "source": [
    "fig.savefig('output.png')"
   ]
  }
 ],
 "metadata": {
  "kernelspec": {
   "display_name": "Python 3",
   "language": "python",
   "name": "python3"
  },
  "language_info": {
   "codemirror_mode": {
    "name": "ipython",
    "version": 3
   },
   "file_extension": ".py",
   "mimetype": "text/x-python",
   "name": "python",
   "nbconvert_exporter": "python",
   "pygments_lexer": "ipython3",
   "version": "3.7.3"
  }
 },
 "nbformat": 4,
 "nbformat_minor": 4
}
