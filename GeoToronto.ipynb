{
 "cells": [
  {
   "cell_type": "code",
   "execution_count": 1,
   "metadata": {},
   "outputs": [
    {
     "name": "stderr",
     "output_type": "stream",
     "text": [
      "C:\\Users\\328676507\\AppData\\Local\\conda\\conda\\envs\\self\\lib\\site-packages\\ipykernel_launcher.py:13: MatplotlibDeprecationWarning: \n",
      "The mpl_toolkits.axes_grid module was deprecated in Matplotlib 2.1 and will be removed two minor releases later. Use mpl_toolkits.axes_grid1 and mpl_toolkits.axisartist, which provide the same functionality instead.\n",
      "  del sys.path[0]\n"
     ]
    }
   ],
   "source": [
    "#!/usr/bin/env python\n",
    "\n",
    "# import packages\n",
    "import sys\n",
    "import matplotlib\n",
    "import math\n",
    "import pyproj\n",
    "from descartes import PolygonPatch\n",
    "matplotlib.use('agg', warn=False)\n",
    "import matplotlib.pyplot as plt\n",
    "import seaborn as sns\n",
    "import numpy as np\n",
    "from matplotlib.colors import ListedColormap, Normalize\n",
    "from matplotlib.colorbar import ColorbarBase\n",
    "from mpl_toolkits.axes_grid.inset_locator import inset_axes\n",
    "import sys\n",
    "import os\n",
    "import zipfile\n",
    "import subprocess\n",
    "import json\n",
    "import shelve"
   ]
  },
  {
   "cell_type": "markdown",
   "metadata": {},
   "source": [
    "Run the command line below to convert shp to json\n",
    "\n",
    "```bash\n",
    "ogr2ogr -f GeoJSON -t_srs crs:84 ZONING_ZONE_CATAGORIES_WGS84.json ZONING_ZONE_CATAGORIES_WGS84.shp\n",
    "```"
   ]
  },
  {
   "cell_type": "code",
   "execution_count": 6,
   "metadata": {},
   "outputs": [],
   "source": [
    "matplotlib.use(\"Qt4Agg\")"
   ]
  },
  {
   "cell_type": "code",
   "execution_count": 7,
   "metadata": {},
   "outputs": [],
   "source": [
    "transform=lambda x: x\n",
    "with open('./data/ZONING_ZONE_CATAGORIES_WGS84.json') as json_file:\n",
    "    json_data = json.load(json_file)\n",
    "    fig = plt.figure(figsize=(15,15))\n",
    "    ax = fig.add_subplot(1, 1, 1)\n",
    "    for i in json_data['features']:\n",
    "        poly = i['geometry']\n",
    "        poly = transform(poly)\n",
    "        fc = \"#ffffff\"\n",
    "        ec = \"#ff0000\"\n",
    "        z = 100\n",
    "        ax.add_patch(PolygonPatch(poly,\n",
    "                                  fc=fc,\n",
    "                                  ec=ec,\n",
    "                                  zorder=z))\n",
    "        ax.set_xlim([-79.63, -79.11])\n",
    "        ax.set_ylim([43.58, 43.85])\n",
    "    plt.show()"
   ]
  }
 ],
 "metadata": {
  "kernelspec": {
   "display_name": "Python 3",
   "language": "python",
   "name": "python3"
  },
  "language_info": {
   "codemirror_mode": {
    "name": "ipython",
    "version": 3
   },
   "file_extension": ".py",
   "mimetype": "text/x-python",
   "name": "python",
   "nbconvert_exporter": "python",
   "pygments_lexer": "ipython3",
   "version": "3.6.8"
  }
 },
 "nbformat": 4,
 "nbformat_minor": 4
}
